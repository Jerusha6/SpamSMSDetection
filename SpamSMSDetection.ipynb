{
 "cells": [
  {
   "cell_type": "code",
   "execution_count": 2,
   "id": "dffe2407-f1fa-44d8-b593-86c8d8e6024f",
   "metadata": {},
   "outputs": [
    {
     "name": "stdout",
     "output_type": "stream",
     "text": [
      "     v1                                                 v2 Unnamed: 2  \\\n",
      "0   ham  Go until jurong point, crazy.. Available only ...        NaN   \n",
      "1   ham                      Ok lar... Joking wif u oni...        NaN   \n",
      "2  spam  Free entry in 2 a wkly comp to win FA Cup fina...        NaN   \n",
      "3   ham  U dun say so early hor... U c already then say...        NaN   \n",
      "4   ham  Nah I don't think he goes to usf, he lives aro...        NaN   \n",
      "\n",
      "  Unnamed: 3 Unnamed: 4  \n",
      "0        NaN        NaN  \n",
      "1        NaN        NaN  \n",
      "2        NaN        NaN  \n",
      "3        NaN        NaN  \n",
      "4        NaN        NaN  \n",
      "<class 'pandas.core.frame.DataFrame'>\n",
      "RangeIndex: 5572 entries, 0 to 5571\n",
      "Data columns (total 5 columns):\n",
      " #   Column      Non-Null Count  Dtype \n",
      "---  ------      --------------  ----- \n",
      " 0   v1          5572 non-null   object\n",
      " 1   v2          5572 non-null   object\n",
      " 2   Unnamed: 2  50 non-null     object\n",
      " 3   Unnamed: 3  12 non-null     object\n",
      " 4   Unnamed: 4  6 non-null      object\n",
      "dtypes: object(5)\n",
      "memory usage: 217.8+ KB\n",
      "None\n"
     ]
    }
   ],
   "source": [
    "import pandas as pd\n",
    "\n",
    "#Load the dataset\n",
    "df = pd.read_csv('spam.csv',encoding='latin-1')\n",
    "\n",
    "#Inspect the first few rows\n",
    "print(df.head())\n",
    "\n",
    "#check dataset information\n",
    "print(df.info())"
   ]
  },
  {
   "cell_type": "code",
   "execution_count": 3,
   "id": "b21a16a1-2298-4e63-84a2-9fb874754a7c",
   "metadata": {},
   "outputs": [
    {
     "name": "stdout",
     "output_type": "stream",
     "text": [
      "  label                                            message\n",
      "0   ham  Go until jurong point, crazy.. Available only ...\n",
      "1   ham                      Ok lar... Joking wif u oni...\n",
      "2  spam  Free entry in 2 a wkly comp to win FA Cup fina...\n",
      "3   ham  U dun say so early hor... U c already then say...\n",
      "4   ham  Nah I don't think he goes to usf, he lives aro...\n"
     ]
    }
   ],
   "source": [
    "#Renaming columns for clarity\n",
    "df = df.rename(columns={'v1':'label', 'v2': 'message'})\n",
    "\n",
    "#Droping unused columns\n",
    "df = df[['label','message']]\n",
    "print(df.head())"
   ]
  },
  {
   "cell_type": "code",
   "execution_count": 4,
   "id": "45ea5dc9-c62c-4b66-b5d6-46f8986eaf4d",
   "metadata": {},
   "outputs": [
    {
     "name": "stdout",
     "output_type": "stream",
     "text": [
      "label      0\n",
      "message    0\n",
      "dtype: int64\n"
     ]
    }
   ],
   "source": [
    "#Data Exploration\n",
    "#Missing values\n",
    "print(df.isnull().sum())"
   ]
  },
  {
   "cell_type": "code",
   "execution_count": 5,
   "id": "a518c7db-c6ac-40b4-a12e-5fedfa999291",
   "metadata": {},
   "outputs": [
    {
     "name": "stdout",
     "output_type": "stream",
     "text": [
      "403\n"
     ]
    }
   ],
   "source": [
    "#check for duplicates\n",
    "print(df.duplicated().sum())"
   ]
  },
  {
   "cell_type": "code",
   "execution_count": 6,
   "id": "8ac6fc46-8267-4065-b275-4a8a3522d808",
   "metadata": {},
   "outputs": [
    {
     "name": "stdout",
     "output_type": "stream",
     "text": [
      "0\n"
     ]
    }
   ],
   "source": [
    "#Removing duplicates\n",
    "df=df.drop_duplicates()\n",
    "print(df.duplicated().sum())"
   ]
  },
  {
   "cell_type": "code",
   "execution_count": 7,
   "id": "b4280bb3-bd28-4a09-a214-400c8c76f175",
   "metadata": {},
   "outputs": [
    {
     "name": "stdout",
     "output_type": "stream",
     "text": [
      "label\n",
      "0    4516\n",
      "1     653\n",
      "Name: count, dtype: int64\n"
     ]
    }
   ],
   "source": [
    "#Label Encoding\n",
    "\n",
    "#encode labels as 0(ham) and 1 (spam)\n",
    "df['label']=df['label'].map({'ham':0, 'spam':1})\n",
    "\n",
    "#confirming encoding\n",
    "print(df['label'].value_counts())"
   ]
  },
  {
   "cell_type": "code",
   "execution_count": 8,
   "id": "1d3d2dce-49a5-4774-9c1c-af1ba466d7e7",
   "metadata": {},
   "outputs": [
    {
     "name": "stdout",
     "output_type": "stream",
     "text": [
      "   label                                            message\n",
      "0      0  Go until jurong point, crazy.. Available only ...\n",
      "1      0                      Ok lar... Joking wif u oni...\n",
      "2      1  Free entry in 2 a wkly comp to win FA Cup fina...\n",
      "3      0  U dun say so early hor... U c already then say...\n",
      "4      0  Nah I don't think he goes to usf, he lives aro...\n",
      "<class 'pandas.core.frame.DataFrame'>\n",
      "Index: 5169 entries, 0 to 5571\n",
      "Data columns (total 2 columns):\n",
      " #   Column   Non-Null Count  Dtype \n",
      "---  ------   --------------  ----- \n",
      " 0   label    5169 non-null   int64 \n",
      " 1   message  5169 non-null   object\n",
      "dtypes: int64(1), object(1)\n",
      "memory usage: 121.1+ KB\n",
      "None\n"
     ]
    }
   ],
   "source": [
    "#checking updated dataset\n",
    "print(df.head())\n",
    "print(df.info())"
   ]
  },
  {
   "cell_type": "code",
   "execution_count": 9,
   "id": "d7f3c6c7-70bf-450a-8142-64ea4292ab67",
   "metadata": {},
   "outputs": [
    {
     "data": {
      "image/png": "[encoded data removed]",
      "text/plain": [
       "<Figure size 600x400 with 1 Axes>"
      ]
     },
     "metadata": {},
     "output_type": "display_data"
    }
   ],
   "source": [
    "#Visualize the Data\n",
    "\n",
    "import matplotlib.pyplot as plt\n",
    "\n",
    "#plot the distribution of spam vs Ham\n",
    "df['label'].value_counts().plot(kind='bar', color=['blue','orange'],figsize=(6,4))\n",
    "plt.title('Spam vs Ham Distribution')\n",
    "plt.xticks(ticks=[0,1],labels=['Ham(0)', 'Spam(1)']) #Specifies the position of the ticks.\n",
    "plt.xlabel('Message Type')\n",
    "plt.ylabel('Count')\n",
    "plt.show()"
   ]
  },
  {
   "cell_type": "code",
   "execution_count": 10,
   "id": "13cb9243-bc53-4e45-b675-a14c2ae910d2",
   "metadata": {},
   "outputs": [
    {
     "data": {
      "text/plain": [
       "label\n",
       "0    4516\n",
       "1     653\n",
       "Name: count, dtype: int64"
      ]
     },
     "execution_count": 10,
     "metadata": {},
     "output_type": "execute_result"
    }
   ],
   "source": [
    "df['label'].value_counts()"
   ]
  },
  {
   "cell_type": "code",
   "execution_count": 11,
   "id": "d3a482a4-1a5d-4137-8310-d9fe4f30b01b",
   "metadata": {},
   "outputs": [
    {
     "name": "stdout",
     "output_type": "stream",
     "text": [
      "['C:\\\\Users\\\\jerus_7625x1r/nltk_data', 'C:\\\\Users\\\\jerus_7625x1r\\\\AppData\\\\Local\\\\Programs\\\\Python\\\\Python312\\\\nltk_data', 'C:\\\\Users\\\\jerus_7625x1r\\\\AppData\\\\Local\\\\Programs\\\\Python\\\\Python312\\\\share\\\\nltk_data', 'C:\\\\Users\\\\jerus_7625x1r\\\\AppData\\\\Local\\\\Programs\\\\Python\\\\Python312\\\\lib\\\\nltk_data', 'C:\\\\Users\\\\jerus_7625x1r\\\\AppData\\\\Roaming\\\\nltk_data', 'C:\\\\nltk_data', 'D:\\\\nltk_data', 'E:\\\\nltk_data', 'D:\\\\MachineLearning\\\\SpamSMSDetection\\\\nltk_data']\n"
     ]
    },
    {
     "name": "stderr",
     "output_type": "stream",
     "text": [
      "[nltk_data] Downloading package stopwords to\n",
      "[nltk_data]     D:\\MachineLearning\\SpamSMSDetection\\nltk_data...\n",
      "[nltk_data]   Package stopwords is already up-to-date!\n",
      "[nltk_data] Downloading package punkt to\n",
      "[nltk_data]     D:\\MachineLearning\\SpamSMSDetection\\nltk_data...\n",
      "[nltk_data]   Package punkt is already up-to-date!\n",
      "[nltk_data] Downloading package punkt_tab to\n",
      "[nltk_data]     D:\\MachineLearning\\SpamSMSDetection\\nltk_data...\n",
      "[nltk_data]   Package punkt_tab is already up-to-date!\n"
     ]
    }
   ],
   "source": [
    "import nltk\n",
    "import os\n",
    "\n",
    "# Set NLTK data path\n",
    "nltk_data_path = 'D:\\\\MachineLearning\\\\SpamSMSDetection\\\\nltk_data'\n",
    "os.environ['NLTK_DATA'] = nltk_data_path\n",
    "\n",
    "# Add the path to nltk.data.path\n",
    "nltk.data.path.append(nltk_data_path)\n",
    "nltk.download('stopwords', download_dir=nltk_data_path)\n",
    "nltk.download('punkt', download_dir=nltk_data_path)\n",
    "nltk.download('punkt_tab', download_dir=nltk_data_path)\n",
    "print(nltk.data.path)  # Verify the updated path\n"
   ]
  },
  {
   "cell_type": "code",
   "execution_count": 12,
   "id": "862f3d4e-b28e-469d-a4e6-32595f0ad57c",
   "metadata": {},
   "outputs": [],
   "source": [
    "#Text Preprocessing\n",
    "import nltk\n",
    "from nltk.corpus import stopwords\n",
    "from nltk.tokenize import word_tokenize\n",
    "import string"
   ]
  },
  {
   "cell_type": "code",
   "execution_count": 13,
   "id": "6f653ba5-251d-486f-a6ab-30662945030f",
   "metadata": {},
   "outputs": [
    {
     "name": "stdout",
     "output_type": "stream",
     "text": [
      "                                             message  \\\n",
      "0  Go until jurong point, crazy.. Available only ...   \n",
      "1                      Ok lar... Joking wif u oni...   \n",
      "2  Free entry in 2 a wkly comp to win FA Cup fina...   \n",
      "3  U dun say so early hor... U c already then say...   \n",
      "4  Nah I don't think he goes to usf, he lives aro...   \n",
      "\n",
      "                                     cleaned_message  \n",
      "0  go jurong point crazy available bugis n great ...  \n",
      "1                            ok lar joking wif u oni  \n",
      "2  free entry 2 wkly comp win fa cup final tkts 2...  \n",
      "3                u dun say early hor u c already say  \n",
      "4        nah dont think goes usf lives around though  \n"
     ]
    }
   ],
   "source": [
    "def preprocess_text(text):\n",
    "\n",
    "    #convert to lowercase\n",
    "    text = text.lower()\n",
    "    #remove punctuations\n",
    "    text = text.translate(str.maketrans('','',string.punctuation))\n",
    "    #tokenization\n",
    "    tokens = word_tokenize(text)\n",
    "    #Remove stopwords\n",
    "    filtered_tokens = [word for word in tokens if word not in stopwords.words('english')]\n",
    "    #Join tokens back into a single string\n",
    "    return ' '.join(filtered_tokens)\n",
    "\n",
    "# Apply the function to the 'message' column\n",
    "df['cleaned_message'] = df['message'].apply(preprocess_text)\n",
    "\n",
    "# Preview the first few rows\n",
    "print(df[['message', 'cleaned_message']].head())"
   ]
  },
  {
   "cell_type": "code",
   "execution_count": 14,
   "id": "7db5247b-f23c-4b8a-b8e3-2f63e3859243",
   "metadata": {},
   "outputs": [
    {
     "name": "stdout",
     "output_type": "stream",
     "text": [
      "(5169, 5000)\n"
     ]
    }
   ],
   "source": [
    "#convert text into Numerical Features(TF-IDF)\n",
    "from sklearn.feature_extraction.text import TfidfVectorizer\n",
    "# Initialize the TF-IDF Vectorizer\n",
    "vectorizer = TfidfVectorizer(max_features=5000)\n",
    "# Apply the vectorizer to the 'cleaned_message' column\n",
    "X = vectorizer.fit_transform(df['cleaned_message']).toarray()\n",
    "# Check the shape of the resulting matrix (number of messages and features)\n",
    "print(X.shape)"
   ]
  },
  {
   "cell_type": "code",
   "execution_count": 15,
   "id": "bdd2967a-8117-46e5-911a-d4e3534ae4cf",
   "metadata": {},
   "outputs": [
    {
     "name": "stdout",
     "output_type": "stream",
     "text": [
      "Training data shape: (4135, 5000)\n",
      "Test data shape: (1034, 5000)\n"
     ]
    }
   ],
   "source": [
    "#Split the Data into Training and Test Sets\n",
    "from sklearn.model_selection import train_test_split\n",
    "# Split the dataset into training and test sets\n",
    "X_train, X_test, y_train, y_test = train_test_split(X, df['label'], test_size=0.2, random_state=42)\n",
    "\n",
    "# Check the shape of the split data\n",
    "print(f\"Training data shape: {X_train.shape}\")\n",
    "print(f\"Test data shape: {X_test.shape}\")"
   ]
  },
  {
   "cell_type": "code",
   "execution_count": 16,
   "id": "3c18f973-c006-4a4a-8f20-e227a51389e7",
   "metadata": {},
   "outputs": [
    {
     "name": "stdout",
     "output_type": "stream",
     "text": [
      "Training Accuracy: 0.9640\n"
     ]
    }
   ],
   "source": [
    "#Train a Machine Learning Model (Logistic Regression)\n",
    "from sklearn.linear_model import LogisticRegression\n",
    "# Initialize the Logistic Regression model\n",
    "model = LogisticRegression()\n",
    "\n",
    "# Train the model on the training data\n",
    "model.fit(X_train, y_train)\n",
    "\n",
    "# Check the accuracy on the training data\n",
    "train_accuracy = model.score(X_train, y_train)\n",
    "print(f\"Training Accuracy: {train_accuracy:.4f}\")"
   ]
  },
  {
   "cell_type": "code",
   "execution_count": 17,
   "id": "3acbc4c1-7436-43c5-9521-b68b44945932",
   "metadata": {},
   "outputs": [
    {
     "name": "stdout",
     "output_type": "stream",
     "text": [
      "Test Accuracy: 0.9468\n"
     ]
    }
   ],
   "source": [
    "#Evaluate the Model\n",
    "# Evaluate the model on the test data\n",
    "test_accuracy = model.score(X_test, y_test)\n",
    "\n",
    "# Print the test accuracy\n",
    "print(f\"Test Accuracy: {test_accuracy:.4f}\")"
   ]
  },
  {
   "cell_type": "code",
   "execution_count": 18,
   "id": "b0b7adf3-485c-436f-b043-702131ef6ca0",
   "metadata": {},
   "outputs": [
    {
     "name": "stdout",
     "output_type": "stream",
     "text": [
      "Random Forest Test Accuracy: 0.9700\n"
     ]
    }
   ],
   "source": [
    "from sklearn.ensemble import RandomForestClassifier\n",
    "\n",
    "# Initialize Random Forest model\n",
    "rf_model = RandomForestClassifier(n_estimators=100, random_state=42)\n",
    "\n",
    "# Train the model\n",
    "rf_model.fit(X_train, y_train)\n",
    "\n",
    "# Evaluate the model\n",
    "rf_test_accuracy = rf_model.score(X_test, y_test)\n",
    "print(f\"Random Forest Test Accuracy: {rf_test_accuracy:.4f}\")"
   ]
  },
  {
   "cell_type": "code",
   "execution_count": 19,
   "id": "f57a53c8-37c3-4ff6-8276-e0bbd404c7f9",
   "metadata": {},
   "outputs": [
    {
     "name": "stdout",
     "output_type": "stream",
     "text": [
      "SVM Test Accuracy: 0.9778\n"
     ]
    }
   ],
   "source": [
    "from sklearn.svm import SVC\n",
    "\n",
    "# Initialize SVM model\n",
    "svm_model = SVC(kernel='linear', random_state=42)\n",
    "\n",
    "# Train the model\n",
    "svm_model.fit(X_train, y_train)\n",
    "\n",
    "# Evaluate the model\n",
    "svm_test_accuracy = svm_model.score(X_test, y_test)\n",
    "print(f\"SVM Test Accuracy: {svm_test_accuracy:.4f}\")"
   ]
  },
  {
   "cell_type": "code",
   "execution_count": 20,
   "id": "e86a960e-2c6b-4e65-9408-02106a4337f3",
   "metadata": {},
   "outputs": [
    {
     "name": "stdout",
     "output_type": "stream",
     "text": [
      "Fitting 3 folds for each of 162 candidates, totalling 486 fits\n",
      "Best Parameters: {'bootstrap': False, 'max_depth': None, 'min_samples_leaf': 1, 'min_samples_split': 10, 'n_estimators': 200}\n",
      "Best Score: 0.9763002856097387\n"
     ]
    }
   ],
   "source": [
    "from sklearn.model_selection import GridSearchCV\n",
    "from sklearn.ensemble import RandomForestClassifier\n",
    "\n",
    "# Define the parameter grid for Random Forest\n",
    "param_grid = {\n",
    "    'n_estimators': [50, 100, 200],     # Number of trees in the forest\n",
    "    'max_depth': [10, 20, None],        # Maximum depth of the tree\n",
    "    'min_samples_split': [2, 5, 10],    # Minimum samples required to split a node\n",
    "    'min_samples_leaf': [1, 2, 4],      # Minimum samples required at each leaf node\n",
    "    'bootstrap': [True, False]          # Whether to use bootstrap samples\n",
    "}\n",
    "\n",
    "# Initialize the Random Forest model\n",
    "rf_model = RandomForestClassifier(random_state=42)\n",
    "\n",
    "# Set up GridSearchCV\n",
    "grid_search = GridSearchCV(estimator=rf_model, param_grid=param_grid, cv=3, n_jobs=-1, verbose=2)\n",
    "\n",
    "# Fit the model\n",
    "grid_search.fit(X_train, y_train)\n",
    "\n",
    "# Print the best parameters and best score\n",
    "print(f\"Best Parameters: {grid_search.best_params_}\")\n",
    "print(f\"Best Score: {grid_search.best_score_}\")\n"
   ]
  },
  {
   "cell_type": "code",
   "execution_count": 21,
   "id": "0fadbe94-9935-4fef-93b4-d857141b342e",
   "metadata": {},
   "outputs": [
    {
     "name": "stdout",
     "output_type": "stream",
     "text": [
      "Classification Report:\n",
      "               precision    recall  f1-score   support\n",
      "\n",
      "           0       0.98      1.00      0.99       889\n",
      "           1       0.99      0.86      0.92       145\n",
      "\n",
      "    accuracy                           0.98      1034\n",
      "   macro avg       0.98      0.93      0.95      1034\n",
      "weighted avg       0.98      0.98      0.98      1034\n",
      "\n",
      "Confusion Matrix:\n",
      " [[888   1]\n",
      " [ 21 124]]\n"
     ]
    }
   ],
   "source": [
    "from sklearn.metrics import classification_report, confusion_matrix\n",
    "\n",
    "# Use the best estimator from Grid Search\n",
    "best_model = grid_search.best_estimator_\n",
    "\n",
    "# Predict on the test set\n",
    "y_pred = best_model.predict(X_test)\n",
    "\n",
    "# Classification report\n",
    "print(\"Classification Report:\\n\", classification_report(y_test, y_pred))\n",
    "\n",
    "# Confusion matrix\n",
    "cm = confusion_matrix(y_test, y_pred)\n",
    "print(\"Confusion Matrix:\\n\", cm)\n"
   ]
  },
  {
   "cell_type": "code",
   "execution_count": 22,
   "id": "b7cb7b17-03f6-4613-ac7b-961ee8464a39",
   "metadata": {},
   "outputs": [
    {
     "name": "stdout",
     "output_type": "stream",
     "text": [
      "              precision    recall  f1-score   support\n",
      "\n",
      "           0       0.98      0.99      0.99       889\n",
      "           1       0.96      0.88      0.92       145\n",
      "\n",
      "    accuracy                           0.98      1034\n",
      "   macro avg       0.97      0.94      0.95      1034\n",
      "weighted avg       0.98      0.98      0.98      1034\n",
      "\n"
     ]
    }
   ],
   "source": [
    "from sklearn.preprocessing import Binarizer\n",
    "\n",
    "# Get probabilities instead of direct predictions\n",
    "y_probs = best_model.predict_proba(X_test)[:, 1]\n",
    "\n",
    "# Adjust threshold to classify as spam if probability > 0.4 instead of 0.5\n",
    "threshold = 0.4\n",
    "y_pred_adjusted = (y_probs > threshold).astype(int)\n",
    "print(classification_report(y_test, y_pred_adjusted))"
   ]
  },
  {
   "cell_type": "code",
   "execution_count": 23,
   "id": "997dc50b-650d-4cd8-8a28-ec90b75c0e3d",
   "metadata": {},
   "outputs": [],
   "source": [
    "vectorizer = TfidfVectorizer(ngram_range=(1, 2), max_features=5000)"
   ]
  },
  {
   "cell_type": "code",
   "execution_count": 24,
   "id": "5980dd24-d7fb-4ea7-9008-f9be48152123",
   "metadata": {},
   "outputs": [],
   "source": [
    "# Fit the vectorizer on the training data\n",
    "vectorizer = TfidfVectorizer(max_features=5000)  # Adjust max_features as needed\n",
    "X_train_tfidf = vectorizer.fit_transform(df['cleaned_message']).toarray()"
   ]
  },
  {
   "cell_type": "code",
   "execution_count": 25,
   "id": "662aa1d8-3c17-4861-b25a-b310695de905",
   "metadata": {},
   "outputs": [
    {
     "name": "stdout",
     "output_type": "stream",
     "text": [
      "Message: Congratulations! You've won a $1000 gift card. Call now to claim your prize.\n",
      "Prediction: Spam\n",
      "\n",
      "Message: Hey, can you send me the notes from yesterday's meeting?\n",
      "Prediction: Ham\n",
      "\n",
      "Message: Get cheap loans now! Limited time offer. Apply today!\n",
      "Prediction: Ham\n",
      "\n",
      "Message: Let's catch up for lunch tomorrow at 1 PM.\n",
      "Prediction: Ham\n",
      "\n",
      "Message: You have been selected for a free vacation. Click here to claim.\n",
      "Prediction: Spam\n",
      "\n"
     ]
    }
   ],
   "source": [
    "# Example messages to classify\n",
    "new_messages = [\n",
    "    \"Congratulations! You've won a $1000 gift card. Call now to claim your prize.\",\n",
    "    \"Hey, can you send me the notes from yesterday's meeting?\",\n",
    "    \"Get cheap loans now! Limited time offer. Apply today!\",\n",
    "    \"Let's catch up for lunch tomorrow at 1 PM.\",\n",
    "    \"You have been selected for a free vacation. Click here to claim.\"\n",
    "]\n",
    "\n",
    "# Preprocess the messages\n",
    "new_messages_cleaned = [preprocess_text(msg) for msg in new_messages]\n",
    "\n",
    "# Transform the preprocessed messages into TF-IDF features\n",
    "new_messages_features = vectorizer.transform(new_messages_cleaned).toarray()\n",
    "\n",
    "# Predict with the best model\n",
    "predictions = best_model.predict(new_messages_features)\n",
    "\n",
    "# Display predictions\n",
    "for msg, pred in zip(new_messages, predictions):\n",
    "    print(f\"Message: {msg}\")\n",
    "    print(f\"Prediction: {'Spam' if pred == 1 else 'Ham'}\\n\")\n"
   ]
  },
  {
   "cell_type": "code",
   "execution_count": 26,
   "id": "131993a2-e741-4b2f-a158-214caf9de523",
   "metadata": {},
   "outputs": [
    {
     "data": {
      "image/png": "[encoded data removed]",
      "text/plain": [
       "<Figure size 1000x600 with 1 Axes>"
      ]
     },
     "metadata": {},
     "output_type": "display_data"
    }
   ],
   "source": [
    "import numpy as np\n",
    "import matplotlib.pyplot as plt\n",
    "\n",
    "# Get feature importances from the Random Forest model\n",
    "importances = best_model.feature_importances_\n",
    "\n",
    "# Get the indices of the top 10 important features\n",
    "indices = np.argsort(importances)[-10:]\n",
    "\n",
    "# Get the corresponding words from the TF-IDF vectorizer\n",
    "feature_names = np.array(vectorizer.get_feature_names_out())\n",
    "\n",
    "# Plot the top 10 important words\n",
    "plt.figure(figsize=(10, 6))\n",
    "plt.barh(feature_names[indices], importances[indices], color='skyblue')\n",
    "plt.xlabel('Feature Importance')\n",
    "plt.ylabel('Words')\n",
    "plt.title('Top 10 Most Important Words for Spam Detection')\n",
    "plt.show()"
   ]
  },
  {
   "cell_type": "code",
   "execution_count": 27,
   "id": "a5db0399-2278-4a5b-9d69-6ab62c2e4867",
   "metadata": {},
   "outputs": [
    {
     "name": "stdout",
     "output_type": "stream",
     "text": [
      "Model and Vectorizer saved successfully!\n"
     ]
    }
   ],
   "source": [
    "import pickle\n",
    "\n",
    "# Save the trained Random Forest model to a .pkl file\n",
    "with open('model.pkl', 'wb') as model_file:\n",
    "    pickle.dump(best_model, model_file)\n",
    "\n",
    "# Save the TF-IDF vectorizer to a .pkl file\n",
    "with open('vectorizer.pkl', 'wb') as vectorizer_file:\n",
    "    pickle.dump(vectorizer, vectorizer_file)\n",
    "\n",
    "print(\"Model and Vectorizer saved successfully!\")"
   ]
  }
 ],
 "metadata": {
  "kernelspec": {
   "display_name": "Python 3 (ipykernel)",
   "language": "python",
   "name": "python3"
  },
  "language_info": {
   "codemirror_mode": {
    "name": "ipython",
    "version": 3
   },
   "file_extension": ".py",
   "mimetype": "text/x-python",
   "name": "python",
   "nbconvert_exporter": "python",
   "pygments_lexer": "ipython3",
   "version": "3.12.8"
  }
 },
 "nbformat": 4,
 "nbformat_minor": 5
}
